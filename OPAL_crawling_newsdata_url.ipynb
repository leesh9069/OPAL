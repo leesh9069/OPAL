{
 "cells": [
  {
   "cell_type": "code",
   "execution_count": 11,
   "id": "3a62a590",
   "metadata": {},
   "outputs": [],
   "source": [
    "from selenium import webdriver\n",
    "from selenium.webdriver.common.keys import Keys\n",
    "from bs4 import BeautifulSoup\n",
    "import re\n",
    "import time\n",
    "\n",
    "excutable_path = \"chromedriver.exe\"\n",
    "\n",
    "source_url = \"https://www.bigkinds.or.kr/\"\n",
    "\n",
    "driver = webdriver.Chrome(executable_path=excutable_path)\n",
    "driver_get = driver.get(source_url)\n",
    "total_search_key = driver.find_element_by_id('total-search-key')\n",
    "total_search_key.send_keys(\"이재명\")\n",
    "total_search_key.send_keys(Keys.ENTER)\n",
    "select_option = driver.find_element_by_xpath(\"\"\"//*[@id=\"select1\"]/option[1]\"\"\").click()"
   ]
  },
  {
   "cell_type": "code",
   "execution_count": 12,
   "id": "92769f92",
   "metadata": {},
   "outputs": [
    {
     "ename": "AttributeError",
     "evalue": "'NoneType' object has no attribute 'text'",
     "output_type": "error",
     "traceback": [
      "\u001b[1;31m---------------------------------------------------------------------------\u001b[0m",
      "\u001b[1;31mAttributeError\u001b[0m                            Traceback (most recent call last)",
      "\u001b[1;32m<ipython-input-12-00bf338c61db>\u001b[0m in \u001b[0;36m<module>\u001b[1;34m\u001b[0m\n\u001b[0;32m      2\u001b[0m \u001b[1;32mfrom\u001b[0m \u001b[0mhtml\u001b[0m\u001b[1;33m.\u001b[0m\u001b[0mparser\u001b[0m \u001b[1;32mimport\u001b[0m \u001b[0mHTMLParser\u001b[0m\u001b[1;33m\u001b[0m\u001b[1;33m\u001b[0m\u001b[0m\n\u001b[0;32m      3\u001b[0m \u001b[1;33m\u001b[0m\u001b[0m\n\u001b[1;32m----> 4\u001b[1;33m \u001b[0mhtml\u001b[0m \u001b[1;33m=\u001b[0m \u001b[0mdriver_get\u001b[0m\u001b[1;33m.\u001b[0m\u001b[0mtext\u001b[0m\u001b[1;33m\u001b[0m\u001b[1;33m\u001b[0m\u001b[0m\n\u001b[0m\u001b[0;32m      5\u001b[0m \u001b[0mo\u001b[0m \u001b[1;33m=\u001b[0m \u001b[0mbs4\u001b[0m\u001b[1;33m.\u001b[0m\u001b[0mBeautifulSoup\u001b[0m\u001b[1;33m(\u001b[0m\u001b[0mhtml\u001b[0m\u001b[1;33m,\u001b[0m \u001b[1;34m\"html.parser\"\u001b[0m\u001b[1;33m)\u001b[0m\u001b[1;33m\u001b[0m\u001b[1;33m\u001b[0m\u001b[0m\n\u001b[0;32m      6\u001b[0m \u001b[0ml\u001b[0m \u001b[1;33m=\u001b[0m \u001b[1;33m(\u001b[0m\u001b[0mo\u001b[0m\u001b[1;33m.\u001b[0m\u001b[0mfindAll\u001b[0m\u001b[1;33m(\u001b[0m\u001b[1;34m\"div\"\u001b[0m\u001b[1;33m,\u001b[0m \u001b[1;33m{\u001b[0m\u001b[1;34m\"class\"\u001b[0m\u001b[1;33m:\u001b[0m\u001b[1;34m\"title-cp\"\u001b[0m\u001b[1;33m}\u001b[0m\u001b[1;33m)\u001b[0m\u001b[1;33m)\u001b[0m\u001b[1;33m\u001b[0m\u001b[1;33m\u001b[0m\u001b[0m\n",
      "\u001b[1;31mAttributeError\u001b[0m: 'NoneType' object has no attribute 'text'"
     ]
    }
   ],
   "source": [
    "import bs4\n",
    "from html.parser import HTMLParser\n",
    "\n",
    "html = driver_get.text\n",
    "o = bs4.BeautifulSoup(html, \"html.parser\")\n",
    "l = (o.findAll(\"div\", {\"class\":\"title-cp\"}))\n",
    "for i in l:                       \n",
    "    print(i.find(\"strong\").text)"
   ]
  },
  {
   "cell_type": "code",
   "execution_count": null,
   "id": "97dd6ed2",
   "metadata": {},
   "outputs": [],
   "source": [
    "from selenium import webdriver\n",
    "from selenium.webdriver.common.keys import Keys\n",
    "from bs4 import BeautifulSoup as bs\n",
    "import re\n",
    "import time\n",
    "import requests\n",
    "\n",
    "excutable_path = \"chromedriver.exe\"\n",
    "\n",
    "source_url = \"https://www.bigkinds.or.kr/\"\n",
    "\n",
    "driver = webdriver.Chrome(executable_path=excutable_path)\n",
    "driver.get(source_url)\n",
    "\n",
    "search =  driver.find_element_by_xpath(\"\"\"//*[@id=\"total-search-key\"]\"\"\")\n",
    "search.send_keys(\"이재명\")\n",
    "search.send_keys(Keys.ENTER)\n",
    "driver.implicitly_wait(30)\n",
    "\n",
    "url = driver.current_url\n",
    "resp = driver.get(url)\n",
    "soup = bs(resp.text, \"lxml\")"
   ]
  }
 ],
 "metadata": {
  "kernelspec": {
   "display_name": "Python 3",
   "language": "python",
   "name": "python3"
  },
  "language_info": {
   "codemirror_mode": {
    "name": "ipython",
    "version": 3
   },
   "file_extension": ".py",
   "mimetype": "text/x-python",
   "name": "python",
   "nbconvert_exporter": "python",
   "pygments_lexer": "ipython3",
   "version": "3.8.8"
  }
 },
 "nbformat": 4,
 "nbformat_minor": 5
}
